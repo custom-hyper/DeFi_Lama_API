{
  "cells": [
    {
      "cell_type": "markdown",
      "metadata": {
        "id": "view-in-github",
        "colab_type": "text"
      },
      "source": [
        "<a href=\"https://colab.research.google.com/github/custom-hyper/DeFi_Lama_API/blob/master/DeFi_Lama.ipynb\" target=\"_parent\"><img src=\"https://colab.research.google.com/assets/colab-badge.svg\" alt=\"Open In Colab\"/></a>"
      ]
    },
    {
      "cell_type": "markdown",
      "metadata": {
        "id": "cU4qS2WyZF0G"
      },
      "source": [
        "# Project Setup"
      ]
    },
    {
      "cell_type": "code",
      "execution_count": 9,
      "metadata": {
        "colab": {
          "base_uri": "https://localhost:8080/"
        },
        "id": "R_t1UcetYZxG",
        "outputId": "78fd8933-6641-463c-e157-f576b28d895a"
      },
      "outputs": [
        {
          "output_type": "stream",
          "name": "stdout",
          "text": [
            "Requirement already satisfied: requests in /usr/local/lib/python3.7/dist-packages (2.23.0)\n",
            "Requirement already satisfied: chardet<4,>=3.0.2 in /usr/local/lib/python3.7/dist-packages (from requests) (3.0.4)\n",
            "Requirement already satisfied: idna<3,>=2.5 in /usr/local/lib/python3.7/dist-packages (from requests) (2.10)\n",
            "Requirement already satisfied: urllib3!=1.25.0,!=1.25.1,<1.26,>=1.21.1 in /usr/local/lib/python3.7/dist-packages (from requests) (1.24.3)\n",
            "Requirement already satisfied: certifi>=2017.4.17 in /usr/local/lib/python3.7/dist-packages (from requests) (2021.10.8)\n",
            "\u001b[31mERROR: Could not find a version that satisfies the requirement json (from versions: none)\u001b[0m\n",
            "\u001b[31mERROR: No matching distribution found for json\u001b[0m\n",
            "Requirement already satisfied: psycopg2 in /usr/local/lib/python3.7/dist-packages (2.7.6.1)\n",
            "Requirement already satisfied: pandas in /usr/local/lib/python3.7/dist-packages (1.3.5)\n",
            "Requirement already satisfied: numpy>=1.17.3 in /usr/local/lib/python3.7/dist-packages (from pandas) (1.21.6)\n",
            "Requirement already satisfied: pytz>=2017.3 in /usr/local/lib/python3.7/dist-packages (from pandas) (2022.1)\n",
            "Requirement already satisfied: python-dateutil>=2.7.3 in /usr/local/lib/python3.7/dist-packages (from pandas) (2.8.2)\n",
            "Requirement already satisfied: six>=1.5 in /usr/local/lib/python3.7/dist-packages (from python-dateutil>=2.7.3->pandas) (1.15.0)\n"
          ]
        }
      ],
      "source": [
        "#@title  Install  Packages { display-mode: \"code\" }\n",
        "!pip install requests\n",
        "!pip install json\n",
        "!pip install psycopg2\n",
        "!pip install pandas\n"
      ]
    },
    {
      "cell_type": "code",
      "execution_count": 2,
      "metadata": {
        "colab": {
          "base_uri": "https://localhost:8080/"
        },
        "id": "WiF0xqsdKqe1",
        "outputId": "a4074725-7b52-4ed6-8420-5a02ee79cb50"
      },
      "outputs": [
        {
          "output_type": "stream",
          "name": "stdout",
          "text": [
            "Drive already mounted at /content/drive; to attempt to forcibly remount, call drive.mount(\"/content/drive\", force_remount=True).\n"
          ]
        }
      ],
      "source": [
        "#@title Connect to Drive { display-mode: \"code\" }\n",
        "from google.colab import drive\n",
        "drive.mount('/content/drive')"
      ]
    },
    {
      "cell_type": "code",
      "execution_count": 10,
      "metadata": {
        "id": "gfw0-V78uPt-"
      },
      "outputs": [],
      "source": [
        "#@title  Import Libraries { display-mode: \"code\" }\n",
        "import requests\n",
        "import json\n",
        "from google.colab import data_table\n",
        "import sqlite3 as sq\n",
        "import pandas as pd\n",
        "import logging\n",
        "import pandas as pd\n",
        "import logging\n",
        "import time\n",
        "from tqdm.notebook import tqdm\n",
        "from datetime import datetime\n",
        "import plotly.graph_objects as go\n",
        "import matplotlib.pyplot as plt"
      ]
    },
    {
      "cell_type": "code",
      "execution_count": 4,
      "metadata": {
        "colab": {
          "base_uri": "https://localhost:8080/"
        },
        "id": "Uq7YIXM4Ibij",
        "outputId": "aab1de3f-9387-43b5-c52c-569cc2ba75da"
      },
      "outputs": [
        {
          "output_type": "execute_result",
          "data": {
            "text/plain": [
              "[]"
            ]
          },
          "metadata": {},
          "execution_count": 4
        }
      ],
      "source": [
        "#@title  Connect { display-mode: \"code\" }\n",
        "path = '/content/drive/MyDrive/workspace/pipelines/db/' #@param {type: 'string'\n",
        "database = \"db.sqlite\" #@param {type: 'string'\n",
        "conn_SQLite = sq.connect(path+database)\n",
        "\n",
        "#@title   Show Available Tables { display-mode: \"code\" }\n",
        "cursor = conn_SQLite.cursor()\n",
        "\n",
        "cursor.execute(\"SELECT name FROM sqlite_master WHERE type='table';\")\n",
        "cursor.execute(\"DROP TABLE deFi_lama_general;\")\n",
        "cursor.fetchall()"
      ]
    },
    {
      "cell_type": "markdown",
      "metadata": {
        "id": "GaNEAm4wsPfr"
      },
      "source": [
        "# Data Extraction\n",
        "\n",
        "Please use  df['slug'] as primary key if loaded into SQL light"
      ]
    },
    {
      "cell_type": "markdown",
      "metadata": {
        "id": "bmEdMoIl0C7u"
      },
      "source": [
        "## Protocols ID List"
      ]
    },
    {
      "cell_type": "code",
      "execution_count": 5,
      "metadata": {
        "colab": {
          "base_uri": "https://localhost:8080/",
          "height": 243
        },
        "id": "Q8lWMw1U6Kui",
        "outputId": "e5599464-0c35-4c9d-b7c6-aff637e8ad5b"
      },
      "outputs": [
        {
          "output_type": "execute_result",
          "data": {
            "text/plain": [
              "          id   name                                     address symbol  \\\n",
              "0  CRV.Curve  Curve  0xD533a949740bb3306d119CC777fa900bA034cd52    CRV   \n",
              "\n",
              "                url                                        description  \\\n",
              "0  https://curve.fi  Curve is a decentralized exchange liquidity po...   \n",
              "\n",
              "         chain                              logo audits audit_note  ...  \\\n",
              "0  Multi-Chain  https://icons.llama.fi/curve.png      2       None  ...   \n",
              "\n",
              "  chainTvls.zkSync chainTvls.zkSync-offers chainTvls.Metis-pool2  \\\n",
              "0              NaN                     NaN                   NaN   \n",
              "\n",
              "  chainTvls.Harmony-Treasury chainTvls.Metis-Treasury chainTvls.Velas-staking  \\\n",
              "0                        NaN                      NaN                     NaN   \n",
              "\n",
              "  chainTvls.Celo-Treasury chainTvls.Ergo-staking Notes        UNIX  \n",
              "0                     NaN                    NaN        1650753273  \n",
              "\n",
              "[1 rows x 305 columns]"
            ],
            "text/html": [
              "\n",
              "  <div id=\"df-29aaa771-c2dd-4b51-a336-23e0c09e990f\">\n",
              "    <div class=\"colab-df-container\">\n",
              "      <div>\n",
              "<style scoped>\n",
              "    .dataframe tbody tr th:only-of-type {\n",
              "        vertical-align: middle;\n",
              "    }\n",
              "\n",
              "    .dataframe tbody tr th {\n",
              "        vertical-align: top;\n",
              "    }\n",
              "\n",
              "    .dataframe thead th {\n",
              "        text-align: right;\n",
              "    }\n",
              "</style>\n",
              "<table border=\"1\" class=\"dataframe\">\n",
              "  <thead>\n",
              "    <tr style=\"text-align: right;\">\n",
              "      <th></th>\n",
              "      <th>id</th>\n",
              "      <th>name</th>\n",
              "      <th>address</th>\n",
              "      <th>symbol</th>\n",
              "      <th>url</th>\n",
              "      <th>description</th>\n",
              "      <th>chain</th>\n",
              "      <th>logo</th>\n",
              "      <th>audits</th>\n",
              "      <th>audit_note</th>\n",
              "      <th>...</th>\n",
              "      <th>chainTvls.zkSync</th>\n",
              "      <th>chainTvls.zkSync-offers</th>\n",
              "      <th>chainTvls.Metis-pool2</th>\n",
              "      <th>chainTvls.Harmony-Treasury</th>\n",
              "      <th>chainTvls.Metis-Treasury</th>\n",
              "      <th>chainTvls.Velas-staking</th>\n",
              "      <th>chainTvls.Celo-Treasury</th>\n",
              "      <th>chainTvls.Ergo-staking</th>\n",
              "      <th>Notes</th>\n",
              "      <th>UNIX</th>\n",
              "    </tr>\n",
              "  </thead>\n",
              "  <tbody>\n",
              "    <tr>\n",
              "      <th>0</th>\n",
              "      <td>CRV.Curve</td>\n",
              "      <td>Curve</td>\n",
              "      <td>0xD533a949740bb3306d119CC777fa900bA034cd52</td>\n",
              "      <td>CRV</td>\n",
              "      <td>https://curve.fi</td>\n",
              "      <td>Curve is a decentralized exchange liquidity po...</td>\n",
              "      <td>Multi-Chain</td>\n",
              "      <td>https://icons.llama.fi/curve.png</td>\n",
              "      <td>2</td>\n",
              "      <td>None</td>\n",
              "      <td>...</td>\n",
              "      <td>NaN</td>\n",
              "      <td>NaN</td>\n",
              "      <td>NaN</td>\n",
              "      <td>NaN</td>\n",
              "      <td>NaN</td>\n",
              "      <td>NaN</td>\n",
              "      <td>NaN</td>\n",
              "      <td>NaN</td>\n",
              "      <td></td>\n",
              "      <td>1650753273</td>\n",
              "    </tr>\n",
              "  </tbody>\n",
              "</table>\n",
              "<p>1 rows × 305 columns</p>\n",
              "</div>\n",
              "      <button class=\"colab-df-convert\" onclick=\"convertToInteractive('df-29aaa771-c2dd-4b51-a336-23e0c09e990f')\"\n",
              "              title=\"Convert this dataframe to an interactive table.\"\n",
              "              style=\"display:none;\">\n",
              "        \n",
              "  <svg xmlns=\"http://www.w3.org/2000/svg\" height=\"24px\"viewBox=\"0 0 24 24\"\n",
              "       width=\"24px\">\n",
              "    <path d=\"M0 0h24v24H0V0z\" fill=\"none\"/>\n",
              "    <path d=\"M18.56 5.44l.94 2.06.94-2.06 2.06-.94-2.06-.94-.94-2.06-.94 2.06-2.06.94zm-11 1L8.5 8.5l.94-2.06 2.06-.94-2.06-.94L8.5 2.5l-.94 2.06-2.06.94zm10 10l.94 2.06.94-2.06 2.06-.94-2.06-.94-.94-2.06-.94 2.06-2.06.94z\"/><path d=\"M17.41 7.96l-1.37-1.37c-.4-.4-.92-.59-1.43-.59-.52 0-1.04.2-1.43.59L10.3 9.45l-7.72 7.72c-.78.78-.78 2.05 0 2.83L4 21.41c.39.39.9.59 1.41.59.51 0 1.02-.2 1.41-.59l7.78-7.78 2.81-2.81c.8-.78.8-2.07 0-2.86zM5.41 20L4 18.59l7.72-7.72 1.47 1.35L5.41 20z\"/>\n",
              "  </svg>\n",
              "      </button>\n",
              "      \n",
              "  <style>\n",
              "    .colab-df-container {\n",
              "      display:flex;\n",
              "      flex-wrap:wrap;\n",
              "      gap: 12px;\n",
              "    }\n",
              "\n",
              "    .colab-df-convert {\n",
              "      background-color: #E8F0FE;\n",
              "      border: none;\n",
              "      border-radius: 50%;\n",
              "      cursor: pointer;\n",
              "      display: none;\n",
              "      fill: #1967D2;\n",
              "      height: 32px;\n",
              "      padding: 0 0 0 0;\n",
              "      width: 32px;\n",
              "    }\n",
              "\n",
              "    .colab-df-convert:hover {\n",
              "      background-color: #E2EBFA;\n",
              "      box-shadow: 0px 1px 2px rgba(60, 64, 67, 0.3), 0px 1px 3px 1px rgba(60, 64, 67, 0.15);\n",
              "      fill: #174EA6;\n",
              "    }\n",
              "\n",
              "    [theme=dark] .colab-df-convert {\n",
              "      background-color: #3B4455;\n",
              "      fill: #D2E3FC;\n",
              "    }\n",
              "\n",
              "    [theme=dark] .colab-df-convert:hover {\n",
              "      background-color: #434B5C;\n",
              "      box-shadow: 0px 1px 3px 1px rgba(0, 0, 0, 0.15);\n",
              "      filter: drop-shadow(0px 1px 2px rgba(0, 0, 0, 0.3));\n",
              "      fill: #FFFFFF;\n",
              "    }\n",
              "  </style>\n",
              "\n",
              "      <script>\n",
              "        const buttonEl =\n",
              "          document.querySelector('#df-29aaa771-c2dd-4b51-a336-23e0c09e990f button.colab-df-convert');\n",
              "        buttonEl.style.display =\n",
              "          google.colab.kernel.accessAllowed ? 'block' : 'none';\n",
              "\n",
              "        async function convertToInteractive(key) {\n",
              "          const element = document.querySelector('#df-29aaa771-c2dd-4b51-a336-23e0c09e990f');\n",
              "          const dataTable =\n",
              "            await google.colab.kernel.invokeFunction('convertToInteractive',\n",
              "                                                     [key], {});\n",
              "          if (!dataTable) return;\n",
              "\n",
              "          const docLinkHtml = 'Like what you see? Visit the ' +\n",
              "            '<a target=\"_blank\" href=https://colab.research.google.com/notebooks/data_table.ipynb>data table notebook</a>'\n",
              "            + ' to learn more about interactive tables.';\n",
              "          element.innerHTML = '';\n",
              "          dataTable['output_type'] = 'display_data';\n",
              "          await google.colab.output.renderOutput(dataTable, element);\n",
              "          const docLink = document.createElement('div');\n",
              "          docLink.innerHTML = docLinkHtml;\n",
              "          element.appendChild(docLink);\n",
              "        }\n",
              "      </script>\n",
              "    </div>\n",
              "  </div>\n",
              "  "
            ]
          },
          "metadata": {},
          "execution_count": 5
        }
      ],
      "source": [
        "#@title Call API { display-mode: \"code\" }\n",
        "\n",
        "\n",
        "\n",
        "#General Information table\n",
        "response = requests.get(\"https://api.llama.fi/protocols\")\n",
        "output = response.text\n",
        "DeFi = json.loads(output)\n",
        "full_talbe = pd.json_normalize(DeFi)\n",
        "full_talbe['id'] = full_talbe['symbol']  + '.' + full_talbe['name']\n",
        "full_talbe['id'].replace(' ','')\n",
        "full_talbe['Notes'] = ''\n",
        "\n",
        "#UNIX timestamp: created\n",
        "full_talbe['UNIX'] = int( time.time())\n",
        "\n",
        "\n",
        "\n",
        "full_talbe.head(1)"
      ]
    },
    {
      "cell_type": "code",
      "execution_count": 14,
      "metadata": {
        "id": "ixm2TnXQ7aKF"
      },
      "outputs": [],
      "source": [
        "#@title Save To Directory{ display-mode: \"code\" }\n",
        "table = \"deFi_lama_general\"\n",
        "sfile = \"deFi_lama_general.csv\"\n",
        "path = \"/content/drive/MyDrive/workspace/pipelines/datasets/defi_lama/output/\"\n",
        "full_talbe.to_csv(path + sfile)"
      ]
    },
    {
      "cell_type": "code",
      "execution_count": 15,
      "metadata": {
        "colab": {
          "base_uri": "https://localhost:8080/",
          "height": 380
        },
        "id": "XabKSGoM7ctX",
        "outputId": "678d8ec2-26d4-4fa4-aaf7-213fa46cea44"
      },
      "outputs": [
        {
          "output_type": "error",
          "ename": "InterfaceError",
          "evalue": "ignored",
          "traceback": [
            "\u001b[0;31m---------------------------------------------------------------------------\u001b[0m",
            "\u001b[0;31mInterfaceError\u001b[0m                            Traceback (most recent call last)",
            "\u001b[0;32m<ipython-input-15-a82203fafce0>\u001b[0m in \u001b[0;36m<module>\u001b[0;34m()\u001b[0m\n\u001b[1;32m      1\u001b[0m \u001b[0;31m#@title Load to SQLite { display-mode: \"code\" }\u001b[0m\u001b[0;34m\u001b[0m\u001b[0;34m\u001b[0m\u001b[0;34m\u001b[0m\u001b[0m\n\u001b[1;32m      2\u001b[0m \u001b[0;34m\u001b[0m\u001b[0m\n\u001b[0;32m----> 3\u001b[0;31m \u001b[0mfull_talbe\u001b[0m\u001b[0;34m.\u001b[0m\u001b[0mto_sql\u001b[0m\u001b[0;34m(\u001b[0m\u001b[0mtable\u001b[0m\u001b[0;34m,\u001b[0m \u001b[0mconn_SQLite\u001b[0m \u001b[0;34m,\u001b[0m \u001b[0mif_exists\u001b[0m\u001b[0;34m=\u001b[0m\u001b[0;34m'append'\u001b[0m\u001b[0;34m,\u001b[0m \u001b[0mindex\u001b[0m\u001b[0;34m=\u001b[0m\u001b[0;32mFalse\u001b[0m\u001b[0;34m)\u001b[0m\u001b[0;34m\u001b[0m\u001b[0;34m\u001b[0m\u001b[0m\n\u001b[0m\u001b[1;32m      4\u001b[0m \u001b[0;34m\u001b[0m\u001b[0m\n\u001b[1;32m      5\u001b[0m \u001b[0mdf\u001b[0m \u001b[0;34m=\u001b[0m \u001b[0mpd\u001b[0m\u001b[0;34m.\u001b[0m\u001b[0mread_sql\u001b[0m\u001b[0;34m(\u001b[0m\u001b[0;34m'select * from {}'\u001b[0m\u001b[0;34m.\u001b[0m\u001b[0mformat\u001b[0m\u001b[0;34m(\u001b[0m\u001b[0msfile\u001b[0m\u001b[0;34m)\u001b[0m\u001b[0;34m,\u001b[0m \u001b[0mconn_SQLite\u001b[0m\u001b[0;34m)\u001b[0m\u001b[0;34m\u001b[0m\u001b[0;34m\u001b[0m\u001b[0m\n",
            "\u001b[0;32m/usr/local/lib/python3.7/dist-packages/pandas/core/generic.py\u001b[0m in \u001b[0;36mto_sql\u001b[0;34m(self, name, con, schema, if_exists, index, index_label, chunksize, dtype, method)\u001b[0m\n\u001b[1;32m   2880\u001b[0m             \u001b[0mchunksize\u001b[0m\u001b[0;34m=\u001b[0m\u001b[0mchunksize\u001b[0m\u001b[0;34m,\u001b[0m\u001b[0;34m\u001b[0m\u001b[0;34m\u001b[0m\u001b[0m\n\u001b[1;32m   2881\u001b[0m             \u001b[0mdtype\u001b[0m\u001b[0;34m=\u001b[0m\u001b[0mdtype\u001b[0m\u001b[0;34m,\u001b[0m\u001b[0;34m\u001b[0m\u001b[0;34m\u001b[0m\u001b[0m\n\u001b[0;32m-> 2882\u001b[0;31m             \u001b[0mmethod\u001b[0m\u001b[0;34m=\u001b[0m\u001b[0mmethod\u001b[0m\u001b[0;34m,\u001b[0m\u001b[0;34m\u001b[0m\u001b[0;34m\u001b[0m\u001b[0m\n\u001b[0m\u001b[1;32m   2883\u001b[0m         )\n\u001b[1;32m   2884\u001b[0m \u001b[0;34m\u001b[0m\u001b[0m\n",
            "\u001b[0;32m/usr/local/lib/python3.7/dist-packages/pandas/io/sql.py\u001b[0m in \u001b[0;36mto_sql\u001b[0;34m(frame, name, con, schema, if_exists, index, index_label, chunksize, dtype, method, engine, **engine_kwargs)\u001b[0m\n\u001b[1;32m    726\u001b[0m         \u001b[0mmethod\u001b[0m\u001b[0;34m=\u001b[0m\u001b[0mmethod\u001b[0m\u001b[0;34m,\u001b[0m\u001b[0;34m\u001b[0m\u001b[0;34m\u001b[0m\u001b[0m\n\u001b[1;32m    727\u001b[0m         \u001b[0mengine\u001b[0m\u001b[0;34m=\u001b[0m\u001b[0mengine\u001b[0m\u001b[0;34m,\u001b[0m\u001b[0;34m\u001b[0m\u001b[0;34m\u001b[0m\u001b[0m\n\u001b[0;32m--> 728\u001b[0;31m         \u001b[0;34m**\u001b[0m\u001b[0mengine_kwargs\u001b[0m\u001b[0;34m,\u001b[0m\u001b[0;34m\u001b[0m\u001b[0;34m\u001b[0m\u001b[0m\n\u001b[0m\u001b[1;32m    729\u001b[0m     )\n\u001b[1;32m    730\u001b[0m \u001b[0;34m\u001b[0m\u001b[0m\n",
            "\u001b[0;32m/usr/local/lib/python3.7/dist-packages/pandas/io/sql.py\u001b[0m in \u001b[0;36mto_sql\u001b[0;34m(self, frame, name, if_exists, index, index_label, schema, chunksize, dtype, method, **kwargs)\u001b[0m\n\u001b[1;32m   2224\u001b[0m         )\n\u001b[1;32m   2225\u001b[0m         \u001b[0mtable\u001b[0m\u001b[0;34m.\u001b[0m\u001b[0mcreate\u001b[0m\u001b[0;34m(\u001b[0m\u001b[0;34m)\u001b[0m\u001b[0;34m\u001b[0m\u001b[0;34m\u001b[0m\u001b[0m\n\u001b[0;32m-> 2226\u001b[0;31m         \u001b[0mtable\u001b[0m\u001b[0;34m.\u001b[0m\u001b[0minsert\u001b[0m\u001b[0;34m(\u001b[0m\u001b[0mchunksize\u001b[0m\u001b[0;34m,\u001b[0m \u001b[0mmethod\u001b[0m\u001b[0;34m)\u001b[0m\u001b[0;34m\u001b[0m\u001b[0;34m\u001b[0m\u001b[0m\n\u001b[0m\u001b[1;32m   2227\u001b[0m \u001b[0;34m\u001b[0m\u001b[0m\n\u001b[1;32m   2228\u001b[0m     \u001b[0;32mdef\u001b[0m \u001b[0mhas_table\u001b[0m\u001b[0;34m(\u001b[0m\u001b[0mself\u001b[0m\u001b[0;34m,\u001b[0m \u001b[0mname\u001b[0m\u001b[0;34m:\u001b[0m \u001b[0mstr\u001b[0m\u001b[0;34m,\u001b[0m \u001b[0mschema\u001b[0m\u001b[0;34m:\u001b[0m \u001b[0mstr\u001b[0m \u001b[0;34m|\u001b[0m \u001b[0;32mNone\u001b[0m \u001b[0;34m=\u001b[0m \u001b[0;32mNone\u001b[0m\u001b[0;34m)\u001b[0m\u001b[0;34m:\u001b[0m\u001b[0;34m\u001b[0m\u001b[0;34m\u001b[0m\u001b[0m\n",
            "\u001b[0;32m/usr/local/lib/python3.7/dist-packages/pandas/io/sql.py\u001b[0m in \u001b[0;36minsert\u001b[0;34m(self, chunksize, method)\u001b[0m\n\u001b[1;32m    965\u001b[0m \u001b[0;34m\u001b[0m\u001b[0m\n\u001b[1;32m    966\u001b[0m                 \u001b[0mchunk_iter\u001b[0m \u001b[0;34m=\u001b[0m \u001b[0mzip\u001b[0m\u001b[0;34m(\u001b[0m\u001b[0;34m*\u001b[0m\u001b[0;34m[\u001b[0m\u001b[0marr\u001b[0m\u001b[0;34m[\u001b[0m\u001b[0mstart_i\u001b[0m\u001b[0;34m:\u001b[0m\u001b[0mend_i\u001b[0m\u001b[0;34m]\u001b[0m \u001b[0;32mfor\u001b[0m \u001b[0marr\u001b[0m \u001b[0;32min\u001b[0m \u001b[0mdata_list\u001b[0m\u001b[0;34m]\u001b[0m\u001b[0;34m)\u001b[0m\u001b[0;34m\u001b[0m\u001b[0;34m\u001b[0m\u001b[0m\n\u001b[0;32m--> 967\u001b[0;31m                 \u001b[0mexec_insert\u001b[0m\u001b[0;34m(\u001b[0m\u001b[0mconn\u001b[0m\u001b[0;34m,\u001b[0m \u001b[0mkeys\u001b[0m\u001b[0;34m,\u001b[0m \u001b[0mchunk_iter\u001b[0m\u001b[0;34m)\u001b[0m\u001b[0;34m\u001b[0m\u001b[0;34m\u001b[0m\u001b[0m\n\u001b[0m\u001b[1;32m    968\u001b[0m \u001b[0;34m\u001b[0m\u001b[0m\n\u001b[1;32m    969\u001b[0m     def _query_iterator(\n",
            "\u001b[0;32m/usr/local/lib/python3.7/dist-packages/pandas/io/sql.py\u001b[0m in \u001b[0;36m_execute_insert\u001b[0;34m(self, conn, keys, data_iter)\u001b[0m\n\u001b[1;32m   1922\u001b[0m     \u001b[0;32mdef\u001b[0m \u001b[0m_execute_insert\u001b[0m\u001b[0;34m(\u001b[0m\u001b[0mself\u001b[0m\u001b[0;34m,\u001b[0m \u001b[0mconn\u001b[0m\u001b[0;34m,\u001b[0m \u001b[0mkeys\u001b[0m\u001b[0;34m,\u001b[0m \u001b[0mdata_iter\u001b[0m\u001b[0;34m)\u001b[0m\u001b[0;34m:\u001b[0m\u001b[0;34m\u001b[0m\u001b[0;34m\u001b[0m\u001b[0m\n\u001b[1;32m   1923\u001b[0m         \u001b[0mdata_list\u001b[0m \u001b[0;34m=\u001b[0m \u001b[0mlist\u001b[0m\u001b[0;34m(\u001b[0m\u001b[0mdata_iter\u001b[0m\u001b[0;34m)\u001b[0m\u001b[0;34m\u001b[0m\u001b[0;34m\u001b[0m\u001b[0m\n\u001b[0;32m-> 1924\u001b[0;31m         \u001b[0mconn\u001b[0m\u001b[0;34m.\u001b[0m\u001b[0mexecutemany\u001b[0m\u001b[0;34m(\u001b[0m\u001b[0mself\u001b[0m\u001b[0;34m.\u001b[0m\u001b[0minsert_statement\u001b[0m\u001b[0;34m(\u001b[0m\u001b[0mnum_rows\u001b[0m\u001b[0;34m=\u001b[0m\u001b[0;36m1\u001b[0m\u001b[0;34m)\u001b[0m\u001b[0;34m,\u001b[0m \u001b[0mdata_list\u001b[0m\u001b[0;34m)\u001b[0m\u001b[0;34m\u001b[0m\u001b[0;34m\u001b[0m\u001b[0m\n\u001b[0m\u001b[1;32m   1925\u001b[0m \u001b[0;34m\u001b[0m\u001b[0m\n\u001b[1;32m   1926\u001b[0m     \u001b[0;32mdef\u001b[0m \u001b[0m_execute_insert_multi\u001b[0m\u001b[0;34m(\u001b[0m\u001b[0mself\u001b[0m\u001b[0;34m,\u001b[0m \u001b[0mconn\u001b[0m\u001b[0;34m,\u001b[0m \u001b[0mkeys\u001b[0m\u001b[0;34m,\u001b[0m \u001b[0mdata_iter\u001b[0m\u001b[0;34m)\u001b[0m\u001b[0;34m:\u001b[0m\u001b[0;34m\u001b[0m\u001b[0;34m\u001b[0m\u001b[0m\n",
            "\u001b[0;31mInterfaceError\u001b[0m: Error binding parameter 13 - probably unsupported type."
          ]
        }
      ],
      "source": [
        "#@title Load to SQLite { display-mode: \"code\" }\n",
        "\n",
        "full_talbe.to_sql(table, conn_SQLite , if_exists='append', index=False) \n",
        "\n",
        "df = pd.read_sql('select * from {}'.format(sfile), conn_SQLite)\n"
      ]
    },
    {
      "cell_type": "code",
      "execution_count": null,
      "metadata": {
        "id": "aA6V19oV8RZD"
      },
      "outputs": [],
      "source": [
        "#@title Show Stats { display-mode: \"code\" }\n",
        "full_talbe.info()"
      ]
    },
    {
      "cell_type": "markdown",
      "metadata": {
        "id": "ZdUUgzcNh90W"
      },
      "source": [
        " ## TVL Timeseries"
      ]
    },
    {
      "cell_type": "code",
      "execution_count": null,
      "metadata": {
        "id": "15cbvkKPS0jy"
      },
      "outputs": [],
      "source": [
        "#@title Call API  { display-mode: \"code\" }\n",
        "\n",
        "#General Information table\n",
        "response = requests.get(\"https://api.llama.fi/protocols\")\n",
        "output = response.text\n",
        "table = json.loads(output)\n",
        "df = pd.json_normalize(table)\n",
        "slug = df['slug']\n",
        "\n",
        "path = \"https://api.llama.fi/protocol/\"\n",
        "frames = []\n",
        "\n",
        "\n",
        "try:\n",
        "  for i in tqdm(slug):\n",
        "    response = requests.get(path + i)\n",
        "    output = response.text\n",
        "    DeFi = json.loads(output)\n",
        "\n",
        "    full_table = pd.json_normalize(DeFi['tvl']) \n",
        "    full_table['slug'] = i\n",
        "    \n",
        "\n",
        "    #results = [full_table]\n",
        "    frames.append(full_table)\n",
        "\n",
        "    #Slow down requests\n",
        "    \n",
        "    time.sleep(60/50)\n",
        "    #Status report\n",
        "    \n",
        "    \n",
        "except ConnectionError:\n",
        "    time.sleep(60)\n",
        "\n",
        "\n",
        "single = pd.concat(frames) #Careful, this line must be outside of the for loop\n",
        "#single['date_Standard']  = datetime.fromtimestamp(time).strftime('%Y-%m-%d')\n",
        "\n",
        "\n",
        "single.head()\n",
        "\n",
        "  \n"
      ]
    },
    {
      "cell_type": "code",
      "execution_count": null,
      "metadata": {
        "id": "TRcIjvwLvNDG"
      },
      "outputs": [],
      "source": [
        "#@title Save To Directory{ display-mode: \"code\" }\n",
        "sfile = \"deFi_lama_tvl\"\n",
        "path = \"/content/drive/MyDrive/workspace/pipelines/datasets/defi_lama/output/\"\n",
        "single.to_csv(path + sfile)"
      ]
    },
    {
      "cell_type": "code",
      "execution_count": null,
      "metadata": {
        "id": "174daOjKt14k"
      },
      "outputs": [],
      "source": [
        "#@title Load to SQLite { display-mode: \"code\" }\n",
        "\n",
        "table = \"deFi_lama_tvl\"\n",
        "\n",
        "single.to_sql(table, conn_SQLite , if_exists='replace', index=False) # writes to file\n",
        "\n",
        " # Test Connection\n",
        "df = pd.read_sql('select * from {}'.format(table), conn_SQLite)\n",
        "\n",
        "df.head()\n"
      ]
    },
    {
      "cell_type": "code",
      "execution_count": null,
      "metadata": {
        "id": "C0JPA-83CJIo"
      },
      "outputs": [],
      "source": [
        "#@title Show Stats { display-mode: \"code\" }\n",
        "single.info()"
      ]
    },
    {
      "cell_type": "markdown",
      "metadata": {
        "id": "kf0Wu5fgzU9P"
      },
      "source": [
        "## Protocol General Information Data"
      ]
    },
    {
      "cell_type": "code",
      "execution_count": null,
      "metadata": {
        "id": "t8PVx04bmHHl"
      },
      "outputs": [],
      "source": [
        "#@title Call API  { display-mode: \"code\" }\n",
        "\n",
        "\n",
        "#General Information table\n",
        "response = requests.get(\"https://api.llama.fi/protocols\")\n",
        "output = response.text\n",
        "DeFi = json.loads(output)\n",
        "full_talbe = pd.json_normalize(DeFi)\n",
        "full_talbe['id'] = full_talbe['symbol']  + '.' + full_talbe['name']\n",
        "full_talbe['id'].replace(' ','')\n",
        "full_talbe['Notes'] = ''\n",
        "\n",
        "#UNIX timestamp: created\n",
        "full_talbe['UNIX'] = int( time.time())\n",
        "\n",
        "\n",
        "\n",
        "full_talbe.head(1)\n",
        "\n"
      ]
    },
    {
      "cell_type": "code",
      "execution_count": null,
      "metadata": {
        "id": "lWcQCb5UxsPw"
      },
      "outputs": [],
      "source": [
        " #@title Save To Directory{ display-mode: \"code\" }\n",
        " \n",
        "table = \"deFi_lama_general\"\n",
        "path = \"/content/drive/MyDrive/workspace/pipelines/datasets/defi_lama/output/\"\n",
        "full_talbe.to_csv(path+ table)"
      ]
    },
    {
      "cell_type": "code",
      "execution_count": null,
      "metadata": {
        "id": "_Iy5SBWdxdJO"
      },
      "outputs": [],
      "source": [
        "@title Dataset Stats { display-mode: \"code\" }\n",
        "full_talbe.info()"
      ]
    },
    {
      "cell_type": "code",
      "execution_count": null,
      "metadata": {
        "id": "AsCaUkVAw_vR"
      },
      "outputs": [],
      "source": [
        "#@title Load to SQLite { display-mode: \"code\" }\n",
        "\n",
        "full_talbe.to_sql(table, conn , if_exists='replace', index=False) # writes to file\n",
        "\n",
        " # Test Connection\n",
        "df = pd.read_sql('select * from {}'.format(table), conn)\n",
        "\n",
        "df.head()"
      ]
    },
    {
      "cell_type": "code",
      "execution_count": null,
      "metadata": {
        "id": "nrB_cBVWKkdd"
      },
      "outputs": [],
      "source": [
        "full_talbe.describe()"
      ]
    },
    {
      "cell_type": "code",
      "execution_count": null,
      "metadata": {
        "id": "l8an06z2PFvA"
      },
      "outputs": [],
      "source": [
        "#@title Dataset Stats { display-mode: \"code\" }\n",
        "full_talbe.info(verbose=True)"
      ]
    },
    {
      "cell_type": "markdown",
      "metadata": {
        "id": "Qn9xu9-l34gI"
      },
      "source": [
        " ## Total Combined TVL"
      ]
    },
    {
      "cell_type": "code",
      "execution_count": null,
      "metadata": {
        "id": "Qp6_lLK5a75k"
      },
      "outputs": [],
      "source": [
        "  #@title API call { display-mode: \"code\" }\n",
        "import requests\n",
        "import datetime\n",
        "import time\n",
        "import json\n",
        "from google.colab import data_table\n",
        "\n",
        "import plotly.graph_objects as go\n",
        "import pandas as pd\n",
        "import matplotlib.pyplot as plt\n",
        "\n",
        "path = \"https://api.llama.fi/charts\"\n",
        "#slug = 'aave' \n",
        "#General Information table\n",
        "response = requests.get(path)\n",
        "output = response.text\n",
        "DeFi = json.loads(output)\n",
        "totalLiq_talbe = pd.json_normalize(DeFi)\n",
        "totalLiq_talbe.head()\n",
        "\n"
      ]
    },
    {
      "cell_type": "code",
      "execution_count": null,
      "metadata": {
        "id": "j2QMe-z85E3k"
      },
      "outputs": [],
      "source": [
        " #@title Save To DeFi Lama Dataset Directory{ display-mode: \"code\" }\n",
        " \n",
        "table = \"deFi_lama_total_TVL\"\n",
        "path = \"/content/drive/MyDrive/workspace/pipelines/datasets/defi_lama/output/\"\n",
        "totalLiq_talbe.to_csv(path+ table)"
      ]
    },
    {
      "cell_type": "code",
      "execution_count": null,
      "metadata": {
        "id": "ORdfr49L3wnZ"
      },
      "outputs": [],
      "source": [
        "#@title Load General Information Data to SQLite { display-mode: \"code\" }\n",
        "\n",
        "\n",
        "totalLiq_talbe.to_sql(table, conn , if_exists='replace', index=False) # writes to file\n",
        "\n",
        " # Test Connection\n",
        "df = pd.read_sql('select * from {}'.format(table), conn)\n",
        "\n",
        "df.head()"
      ]
    },
    {
      "cell_type": "code",
      "execution_count": null,
      "metadata": {
        "id": "wlDLDn3QwW7Z"
      },
      "outputs": [],
      "source": [
        "conn.close()"
      ]
    },
    {
      "cell_type": "markdown",
      "metadata": {
        "id": "POIGHD-luECc"
      },
      "source": [
        "# Feature Engineering"
      ]
    }
  ],
  "metadata": {
    "colab": {
      "collapsed_sections": [],
      "name": "DeFi_Lama.ipynb",
      "provenance": [],
      "mount_file_id": "1L4VA49gUWuKtFO-ii2UpunzNW5-fdgrs",
      "authorship_tag": "ABX9TyPDqZJTuvEFijf4XlCeKWy8",
      "include_colab_link": true
    },
    "kernelspec": {
      "display_name": "Python 3",
      "name": "python3"
    },
    "language_info": {
      "name": "python"
    }
  },
  "nbformat": 4,
  "nbformat_minor": 0
}